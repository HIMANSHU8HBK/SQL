{
 "cells": [
  {
   "cell_type": "code",
   "execution_count": 2,
   "id": "3164d99e",
   "metadata": {},
   "outputs": [],
   "source": [
    "import sqlite3\n",
    "import sql\n",
    "import pandas as pd\n",
    "import numpy as np\n",
    "\n",
    "# Connect to a database (creates the database file if it doesn't exist)\n",
    "cnn = sqlite3.connect('learning_entities.db')"
   ]
  },
  {
   "cell_type": "code",
   "execution_count": 3,
   "id": "f8b81c34",
   "metadata": {},
   "outputs": [],
   "source": [
    "import sql\n",
    "\n",
    "# Load the SQL extension\n",
    "%load_ext sql\n",
    "\n",
    "# Connect to a SQLite database\n",
    "%sql sqlite:///learning_entities.db\n",
    "\n",
    "#display style of SQL query results in Jupyter Notebook\n",
    "%config SqlMagic.style = '_DEPRECATED_DEFAULT'"
   ]
  },
  {
   "cell_type": "code",
   "execution_count": 4,
   "id": "5e7b7048",
   "metadata": {},
   "outputs": [
    {
     "name": "stdout",
     "output_type": "stream",
     "text": [
      " * sqlite:///learning_entities.db\n",
      "Done.\n"
     ]
    },
    {
     "data": {
      "text/html": [
       "<table>\n",
       "    <thead>\n",
       "        <tr>\n",
       "            <th>name</th>\n",
       "        </tr>\n",
       "    </thead>\n",
       "    <tbody>\n",
       "    </tbody>\n",
       "</table>"
      ],
      "text/plain": [
       "[]"
      ]
     },
     "execution_count": 4,
     "metadata": {},
     "output_type": "execute_result"
    }
   ],
   "source": [
    "%%sql\n",
    "\n",
    "SELECT name FROM sqlite_master WHERE type='table';"
   ]
  },
  {
   "cell_type": "markdown",
   "id": "02999159",
   "metadata": {},
   "source": [
    "# Strong Entity\n"
   ]
  },
  {
   "cell_type": "code",
   "execution_count": 5,
   "id": "fb05a5c0",
   "metadata": {
    "scrolled": true
   },
   "outputs": [
    {
     "name": "stdout",
     "output_type": "stream",
     "text": [
      " * sqlite:///learning_entities.db\n",
      "Done.\n"
     ]
    },
    {
     "data": {
      "text/plain": [
       "[]"
      ]
     },
     "execution_count": 5,
     "metadata": {},
     "output_type": "execute_result"
    }
   ],
   "source": [
    "%%sql\n",
    "\n",
    "CREATE TABLE Customer (\n",
    "    CustomerID INT PRIMARY KEY,\n",
    "    Name VARCHAR(100),\n",
    "    Email VARCHAR(100)\n",
    ");"
   ]
  },
  {
   "cell_type": "code",
   "execution_count": 6,
   "id": "804f6575",
   "metadata": {},
   "outputs": [
    {
     "name": "stdout",
     "output_type": "stream",
     "text": [
      " * sqlite:///learning_entities.db\n",
      "Done.\n"
     ]
    },
    {
     "data": {
      "text/html": [
       "<table>\n",
       "    <thead>\n",
       "        <tr>\n",
       "            <th>CustomerID</th>\n",
       "            <th>Name</th>\n",
       "            <th>Email</th>\n",
       "        </tr>\n",
       "    </thead>\n",
       "    <tbody>\n",
       "    </tbody>\n",
       "</table>"
      ],
      "text/plain": [
       "[]"
      ]
     },
     "execution_count": 6,
     "metadata": {},
     "output_type": "execute_result"
    }
   ],
   "source": [
    "%%sql\n",
    "\n",
    "select * from customer;"
   ]
  },
  {
   "cell_type": "code",
   "execution_count": null,
   "id": "0221492f",
   "metadata": {},
   "outputs": [],
   "source": []
  },
  {
   "cell_type": "markdown",
   "id": "39a3a611",
   "metadata": {},
   "source": [
    "# Weak Entity"
   ]
  },
  {
   "cell_type": "code",
   "execution_count": 7,
   "id": "f62b9cd1",
   "metadata": {},
   "outputs": [
    {
     "name": "stdout",
     "output_type": "stream",
     "text": [
      " * sqlite:///learning_entities.db\n",
      "Done.\n",
      "Done.\n"
     ]
    },
    {
     "data": {
      "text/plain": [
       "[]"
      ]
     },
     "execution_count": 7,
     "metadata": {},
     "output_type": "execute_result"
    }
   ],
   "source": [
    "%%sql\n",
    "\n",
    "CREATE TABLE Employee (\n",
    "    EmployeeID INT PRIMARY KEY,\n",
    "    Name VARCHAR(100)\n",
    ");\n",
    "\n",
    "CREATE TABLE Dependent (\n",
    "    DependentID INT,\n",
    "    Name VARCHAR(100),\n",
    "    EmployeeID INT,\n",
    "    PRIMARY KEY (DependentID, EmployeeID),\n",
    "    FOREIGN KEY (EmployeeID) REFERENCES Employee(EmployeeID)\n",
    ");"
   ]
  },
  {
   "cell_type": "code",
   "execution_count": 8,
   "id": "4339c517",
   "metadata": {},
   "outputs": [
    {
     "name": "stdout",
     "output_type": "stream",
     "text": [
      " * sqlite:///learning_entities.db\n",
      "Done.\n"
     ]
    },
    {
     "data": {
      "text/html": [
       "<table>\n",
       "    <thead>\n",
       "        <tr>\n",
       "            <th>EmployeeID</th>\n",
       "            <th>Name</th>\n",
       "        </tr>\n",
       "    </thead>\n",
       "    <tbody>\n",
       "    </tbody>\n",
       "</table>"
      ],
      "text/plain": [
       "[]"
      ]
     },
     "execution_count": 8,
     "metadata": {},
     "output_type": "execute_result"
    }
   ],
   "source": [
    "%%sql\n",
    "\n",
    "select * from Employee;"
   ]
  },
  {
   "cell_type": "code",
   "execution_count": 9,
   "id": "98d6555e",
   "metadata": {},
   "outputs": [
    {
     "name": "stdout",
     "output_type": "stream",
     "text": [
      " * sqlite:///learning_entities.db\n",
      "Done.\n"
     ]
    },
    {
     "data": {
      "text/html": [
       "<table>\n",
       "    <thead>\n",
       "        <tr>\n",
       "            <th>DependentID</th>\n",
       "            <th>Name</th>\n",
       "            <th>EmployeeID</th>\n",
       "        </tr>\n",
       "    </thead>\n",
       "    <tbody>\n",
       "    </tbody>\n",
       "</table>"
      ],
      "text/plain": [
       "[]"
      ]
     },
     "execution_count": 9,
     "metadata": {},
     "output_type": "execute_result"
    }
   ],
   "source": [
    "%%sql\n",
    "\n",
    "select * from Dependent;"
   ]
  },
  {
   "cell_type": "code",
   "execution_count": null,
   "id": "5c933618",
   "metadata": {},
   "outputs": [],
   "source": []
  },
  {
   "cell_type": "code",
   "execution_count": null,
   "id": "47dc6c90",
   "metadata": {},
   "outputs": [],
   "source": []
  },
  {
   "cell_type": "code",
   "execution_count": null,
   "id": "88103ee5",
   "metadata": {},
   "outputs": [],
   "source": [
    "%%sql\n",
    "\n",
    "Drop Table customer;"
   ]
  },
  {
   "cell_type": "code",
   "execution_count": null,
   "id": "4200bcc8",
   "metadata": {},
   "outputs": [],
   "source": [
    "%%sql\n",
    "\n",
    "select * from customer;"
   ]
  },
  {
   "cell_type": "code",
   "execution_count": null,
   "id": "73780589",
   "metadata": {},
   "outputs": [],
   "source": [
    "%%sql\n",
    "\n",
    "Drop Table Employee;\n",
    "Drop Table Dependent;"
   ]
  },
  {
   "cell_type": "code",
   "execution_count": null,
   "id": "cd06b646",
   "metadata": {},
   "outputs": [],
   "source": [
    "%%sql\n",
    "\n",
    "select * from Employee;"
   ]
  },
  {
   "cell_type": "code",
   "execution_count": null,
   "id": "fe26b1b5",
   "metadata": {},
   "outputs": [],
   "source": []
  }
 ],
 "metadata": {
  "kernelspec": {
   "display_name": "Python 3 (ipykernel)",
   "language": "python",
   "name": "python3"
  },
  "language_info": {
   "codemirror_mode": {
    "name": "ipython",
    "version": 3
   },
   "file_extension": ".py",
   "mimetype": "text/x-python",
   "name": "python",
   "nbconvert_exporter": "python",
   "pygments_lexer": "ipython3",
   "version": "3.9.18"
  }
 },
 "nbformat": 4,
 "nbformat_minor": 5
}
