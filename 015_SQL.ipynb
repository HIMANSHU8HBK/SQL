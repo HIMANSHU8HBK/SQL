{
 "cells": [
  {
   "cell_type": "code",
   "execution_count": null,
   "id": "0c91f89b-c16e-4259-9080-ac704cebdda4",
   "metadata": {},
   "outputs": [],
   "source": [
    "# Install ipython-sql if not already installed\n",
    "# !pip install ipython-sql"
   ]
  },
  {
   "cell_type": "code",
   "execution_count": null,
   "id": "18f9a851-ead9-4e57-adc4-c1f5576dc770",
   "metadata": {},
   "outputs": [],
   "source": []
  },
  {
   "cell_type": "code",
   "execution_count": null,
   "id": "3164d99e",
   "metadata": {},
   "outputs": [],
   "source": [
    "import sqlite3\n",
    "import sql\n",
    "import pandas as pd\n",
    "import numpy as np\n",
    "\n",
    "# Connect to a database (creates the database file if it doesn't exist)\n",
    "cnn = sqlite3.connect('northwind1.db')"
   ]
  },
  {
   "cell_type": "code",
   "execution_count": null,
   "id": "f8b81c34",
   "metadata": {},
   "outputs": [],
   "source": [
    "import sql\n",
    "\n",
    "# Load the SQL extension\n",
    "%load_ext sql\n",
    "\n",
    "# Connect to a SQLite database\n",
    "%sql sqlite:///northwind1.db\n",
    "\n",
    "#display style of SQL query results in Jupyter Notebook\n",
    "%config SqlMagic.style = '_DEPRECATED_DEFAULT'"
   ]
  },
  {
   "cell_type": "code",
   "execution_count": null,
   "id": "d8202618",
   "metadata": {},
   "outputs": [],
   "source": []
  },
  {
   "cell_type": "code",
   "execution_count": null,
   "id": "5e7b7048",
   "metadata": {
    "scrolled": true
   },
   "outputs": [],
   "source": [
    "%%sql\n",
    "\n",
    "SELECT name FROM sqlite_master WHERE type='table';"
   ]
  },
  {
   "cell_type": "code",
   "execution_count": null,
   "id": "075dc865",
   "metadata": {},
   "outputs": [],
   "source": [
    "%%sql\n",
    "\n",
    "SELECT * \n",
    "FROM Customers;"
   ]
  },
  {
   "cell_type": "markdown",
   "id": "e056dd9c",
   "metadata": {},
   "source": [
    "# Returns all customers from Mexico OR Brazil"
   ]
  },
  {
   "cell_type": "code",
   "execution_count": null,
   "id": "6004878a",
   "metadata": {},
   "outputs": [],
   "source": [
    "%%sql\n",
    "\n",
    "SELECT *\n",
    "FROM Customers\n",
    "WHERE Country = 'Mexico' OR Country = 'Brazil';"
   ]
  },
  {
   "cell_type": "code",
   "execution_count": null,
   "id": "20bb69ce",
   "metadata": {},
   "outputs": [],
   "source": []
  },
  {
   "cell_type": "code",
   "execution_count": null,
   "id": "b921478a",
   "metadata": {},
   "outputs": [],
   "source": [
    "%%sql\n",
    "\n",
    "SELECT * \n",
    "FROM Customers \n",
    "WHERE Country = 'Mexico';"
   ]
  },
  {
   "cell_type": "code",
   "execution_count": null,
   "id": "04fbb8dc",
   "metadata": {},
   "outputs": [],
   "source": []
  },
  {
   "cell_type": "code",
   "execution_count": null,
   "id": "6a42ec4e",
   "metadata": {},
   "outputs": [],
   "source": [
    "%%sql\n",
    "\n",
    "SELECT * \n",
    "FROM Customers \n",
    "WHERE Country = 'Mexico' \n",
    "OR CustomerName LIKE 'A%';"
   ]
  },
  {
   "cell_type": "code",
   "execution_count": null,
   "id": "c93bc071",
   "metadata": {},
   "outputs": [],
   "source": []
  },
  {
   "cell_type": "code",
   "execution_count": null,
   "id": "804f6575",
   "metadata": {},
   "outputs": [],
   "source": [
    "%%sql\n",
    "\n",
    "SELECT * \n",
    "FROM Customers \n",
    "WHERE Country = 'Mexico' \n",
    "OR CustomerName LIKE 'A%'\n",
    "OR City = 'London';"
   ]
  },
  {
   "cell_type": "code",
   "execution_count": null,
   "id": "0221492f",
   "metadata": {},
   "outputs": [],
   "source": []
  },
  {
   "cell_type": "code",
   "execution_count": null,
   "id": "dffa8bd3",
   "metadata": {},
   "outputs": [],
   "source": []
  },
  {
   "cell_type": "code",
   "execution_count": null,
   "id": "f55dac38",
   "metadata": {},
   "outputs": [],
   "source": []
  },
  {
   "cell_type": "code",
   "execution_count": null,
   "id": "c2109f29",
   "metadata": {},
   "outputs": [],
   "source": [
    "%%sql\n",
    "\n",
    "SELECT * FROM Products\n",
    "ORDER BY ProductName;"
   ]
  },
  {
   "cell_type": "code",
   "execution_count": null,
   "id": "6b85efae",
   "metadata": {},
   "outputs": [],
   "source": [
    "%%sql\n",
    "SELECT * \n",
    "FROM Products \n",
    "WHERE ProductName LIKE '_h%' ;"
   ]
  },
  {
   "cell_type": "code",
   "execution_count": null,
   "id": "1e24e2ef",
   "metadata": {},
   "outputs": [],
   "source": [
    "%%sql\n",
    "SELECT * \n",
    "FROM Products \n",
    "WHERE ProductName LIKE '_h%' \n",
    "OR Price > 20;"
   ]
  },
  {
   "cell_type": "code",
   "execution_count": null,
   "id": "13be7a8b",
   "metadata": {},
   "outputs": [],
   "source": []
  },
  {
   "cell_type": "code",
   "execution_count": null,
   "id": "9e2928f7",
   "metadata": {},
   "outputs": [],
   "source": []
  },
  {
   "cell_type": "code",
   "execution_count": null,
   "id": "682b7e03-aa7c-427c-884f-a4ae3f05a442",
   "metadata": {},
   "outputs": [],
   "source": []
  },
  {
   "cell_type": "markdown",
   "id": "e0ec817e",
   "metadata": {},
   "source": [
    "# END..... Practice Below..."
   ]
  },
  {
   "cell_type": "code",
   "execution_count": null,
   "id": "b91d937f",
   "metadata": {},
   "outputs": [],
   "source": []
  },
  {
   "cell_type": "code",
   "execution_count": null,
   "id": "dfc1dbf4",
   "metadata": {},
   "outputs": [],
   "source": [
    "%%sql\n",
    "\n",
    "SELECT * \n",
    "FROM Customers\n",
    "WHERE country = 'Brazil';"
   ]
  },
  {
   "cell_type": "code",
   "execution_count": null,
   "id": "4339c517",
   "metadata": {},
   "outputs": [],
   "source": [
    "%%sql\n",
    "\n",
    "SELECT * \n",
    "FROM Customers\n",
    "WHERE CustomerID=3;"
   ]
  },
  {
   "cell_type": "code",
   "execution_count": null,
   "id": "7414276d",
   "metadata": {},
   "outputs": [],
   "source": []
  },
  {
   "cell_type": "code",
   "execution_count": null,
   "id": "45786d1a",
   "metadata": {},
   "outputs": [],
   "source": []
  },
  {
   "cell_type": "code",
   "execution_count": null,
   "id": "8d4cfef5",
   "metadata": {},
   "outputs": [],
   "source": [
    "%%sql\n",
    "\n",
    "SELECT * FROM Products;"
   ]
  },
  {
   "cell_type": "code",
   "execution_count": null,
   "id": "da0f8b9c",
   "metadata": {},
   "outputs": [],
   "source": []
  },
  {
   "cell_type": "code",
   "execution_count": null,
   "id": "e4e5eb37",
   "metadata": {},
   "outputs": [],
   "source": [
    "%%sql\n",
    "\n",
    "SELECT *\n",
    "FROM Products\n",
    "WHERE Price > 40;"
   ]
  },
  {
   "cell_type": "code",
   "execution_count": null,
   "id": "957447a3",
   "metadata": {},
   "outputs": [],
   "source": []
  },
  {
   "cell_type": "code",
   "execution_count": null,
   "id": "dc6cb4ee-a228-4be8-9b1f-2434f81c7e27",
   "metadata": {},
   "outputs": [],
   "source": [
    "%%sql\n",
    "\n",
    "SELECT * \n",
    "FROM Products\n",
    "WHERE Price < 40;"
   ]
  },
  {
   "cell_type": "code",
   "execution_count": null,
   "id": "88e3f1e4-1411-42ba-9b79-ab39dd50e2aa",
   "metadata": {},
   "outputs": [],
   "source": []
  },
  {
   "cell_type": "code",
   "execution_count": null,
   "id": "6f80e284",
   "metadata": {},
   "outputs": [],
   "source": [
    "%%sql\n",
    "\n",
    "SELECT * \n",
    "FROM Products\n",
    "WHERE Price >= 30;"
   ]
  },
  {
   "cell_type": "code",
   "execution_count": null,
   "id": "fe26b1b5",
   "metadata": {},
   "outputs": [],
   "source": [
    "%%sql\n",
    "\n",
    "SELECT * \n",
    "FROM Products\n",
    "WHERE Price <= 30;"
   ]
  },
  {
   "cell_type": "code",
   "execution_count": null,
   "id": "5c780f1b",
   "metadata": {},
   "outputs": [],
   "source": []
  },
  {
   "cell_type": "code",
   "execution_count": null,
   "id": "953db47c",
   "metadata": {},
   "outputs": [],
   "source": [
    "%%sql\n",
    "\n",
    "SELECT * FROM Products\n",
    "WHERE Price <> 30;"
   ]
  },
  {
   "cell_type": "code",
   "execution_count": null,
   "id": "a3c59a69",
   "metadata": {},
   "outputs": [],
   "source": [
    "%%sql\n",
    "\n",
    "SELECT * \n",
    "FROM Products\n",
    "WHERE Price BETWEEN 30 AND 40;"
   ]
  },
  {
   "cell_type": "code",
   "execution_count": null,
   "id": "9a972381",
   "metadata": {},
   "outputs": [],
   "source": []
  },
  {
   "cell_type": "code",
   "execution_count": null,
   "id": "d861eb00",
   "metadata": {},
   "outputs": [],
   "source": [
    "%%sql\n",
    "\n",
    "SELECT * \n",
    "FROM Customers\n",
    "WHERE City IN ('Paris','London');"
   ]
  },
  {
   "cell_type": "code",
   "execution_count": null,
   "id": "faf93d05",
   "metadata": {},
   "outputs": [],
   "source": [
    "%%sql\n",
    "\n"
   ]
  },
  {
   "cell_type": "code",
   "execution_count": null,
   "id": "e9da2ce5",
   "metadata": {},
   "outputs": [],
   "source": [
    "%%sql\n",
    "\n"
   ]
  },
  {
   "cell_type": "code",
   "execution_count": null,
   "id": "567f07e9",
   "metadata": {},
   "outputs": [],
   "source": [
    "%%sql\n",
    "\n"
   ]
  },
  {
   "cell_type": "code",
   "execution_count": null,
   "id": "0831e835",
   "metadata": {},
   "outputs": [],
   "source": [
    "%%sql\n",
    "\n"
   ]
  },
  {
   "cell_type": "code",
   "execution_count": null,
   "id": "63bfc0ec",
   "metadata": {},
   "outputs": [],
   "source": []
  },
  {
   "cell_type": "code",
   "execution_count": null,
   "id": "132cad05",
   "metadata": {},
   "outputs": [],
   "source": [
    "%%sql\n",
    "\n"
   ]
  },
  {
   "cell_type": "code",
   "execution_count": null,
   "id": "9fe57981",
   "metadata": {},
   "outputs": [],
   "source": []
  },
  {
   "cell_type": "code",
   "execution_count": null,
   "id": "c10f2263",
   "metadata": {},
   "outputs": [],
   "source": []
  }
 ],
 "metadata": {
  "kernelspec": {
   "display_name": "Python 3 (ipykernel)",
   "language": "python",
   "name": "python3"
  },
  "language_info": {
   "codemirror_mode": {
    "name": "ipython",
    "version": 3
   },
   "file_extension": ".py",
   "mimetype": "text/x-python",
   "name": "python",
   "nbconvert_exporter": "python",
   "pygments_lexer": "ipython3",
   "version": "3.9.18"
  }
 },
 "nbformat": 4,
 "nbformat_minor": 5
}
