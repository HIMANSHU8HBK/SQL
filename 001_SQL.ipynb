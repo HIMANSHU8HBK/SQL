{
 "cells": [
  {
   "cell_type": "code",
   "execution_count": 1,
   "id": "d30b5b9e",
   "metadata": {},
   "outputs": [
    {
     "name": "stdout",
     "output_type": "stream",
     "text": [
      "Requirement already satisfied: ipython-sql in c:\\programdata\\anaconda3\\envs\\tenserflow\\lib\\site-packages (0.5.0)\n",
      "Requirement already satisfied: prettytable in c:\\programdata\\anaconda3\\envs\\tenserflow\\lib\\site-packages (from ipython-sql) (3.12.0)\n",
      "Requirement already satisfied: ipython in c:\\programdata\\anaconda3\\envs\\tenserflow\\lib\\site-packages (from ipython-sql) (8.15.0)\n",
      "Requirement already satisfied: sqlalchemy>=2.0 in c:\\programdata\\anaconda3\\envs\\tenserflow\\lib\\site-packages (from ipython-sql) (2.0.36)\n",
      "Requirement already satisfied: sqlparse in c:\\programdata\\anaconda3\\envs\\tenserflow\\lib\\site-packages (from ipython-sql) (0.5.1)\n",
      "Requirement already satisfied: six in c:\\programdata\\anaconda3\\envs\\tenserflow\\lib\\site-packages (from ipython-sql) (1.16.0)\n",
      "Requirement already satisfied: ipython-genutils in c:\\programdata\\anaconda3\\envs\\tenserflow\\lib\\site-packages (from ipython-sql) (0.2.0)\n",
      "Requirement already satisfied: typing-extensions>=4.6.0 in c:\\programdata\\anaconda3\\envs\\tenserflow\\lib\\site-packages (from sqlalchemy>=2.0->ipython-sql) (4.7.1)\n",
      "Requirement already satisfied: greenlet!=0.4.17 in c:\\programdata\\anaconda3\\envs\\tenserflow\\lib\\site-packages (from sqlalchemy>=2.0->ipython-sql) (3.1.1)\n",
      "Requirement already satisfied: backcall in c:\\programdata\\anaconda3\\envs\\tenserflow\\lib\\site-packages (from ipython->ipython-sql) (0.2.0)\n",
      "Requirement already satisfied: decorator in c:\\programdata\\anaconda3\\envs\\tenserflow\\lib\\site-packages (from ipython->ipython-sql) (5.1.1)\n",
      "Requirement already satisfied: jedi>=0.16 in c:\\programdata\\anaconda3\\envs\\tenserflow\\lib\\site-packages (from ipython->ipython-sql) (0.18.1)\n",
      "Requirement already satisfied: matplotlib-inline in c:\\programdata\\anaconda3\\envs\\tenserflow\\lib\\site-packages (from ipython->ipython-sql) (0.1.6)\n",
      "Requirement already satisfied: pickleshare in c:\\programdata\\anaconda3\\envs\\tenserflow\\lib\\site-packages (from ipython->ipython-sql) (0.7.5)\n",
      "Requirement already satisfied: prompt-toolkit!=3.0.37,<3.1.0,>=3.0.30 in c:\\programdata\\anaconda3\\envs\\tenserflow\\lib\\site-packages (from ipython->ipython-sql) (3.0.36)\n",
      "Requirement already satisfied: pygments>=2.4.0 in c:\\programdata\\anaconda3\\envs\\tenserflow\\lib\\site-packages (from ipython->ipython-sql) (2.15.1)\n",
      "Requirement already satisfied: stack-data in c:\\programdata\\anaconda3\\envs\\tenserflow\\lib\\site-packages (from ipython->ipython-sql) (0.2.0)\n",
      "Requirement already satisfied: traitlets>=5 in c:\\programdata\\anaconda3\\envs\\tenserflow\\lib\\site-packages (from ipython->ipython-sql) (5.7.1)\n",
      "Requirement already satisfied: exceptiongroup in c:\\programdata\\anaconda3\\envs\\tenserflow\\lib\\site-packages (from ipython->ipython-sql) (1.0.4)\n",
      "Requirement already satisfied: colorama in c:\\programdata\\anaconda3\\envs\\tenserflow\\lib\\site-packages (from ipython->ipython-sql) (0.4.6)\n",
      "Requirement already satisfied: wcwidth in c:\\programdata\\anaconda3\\envs\\tenserflow\\lib\\site-packages (from prettytable->ipython-sql) (0.2.5)\n",
      "Requirement already satisfied: parso<0.9.0,>=0.8.0 in c:\\programdata\\anaconda3\\envs\\tenserflow\\lib\\site-packages (from jedi>=0.16->ipython->ipython-sql) (0.8.3)\n",
      "Requirement already satisfied: executing in c:\\programdata\\anaconda3\\envs\\tenserflow\\lib\\site-packages (from stack-data->ipython->ipython-sql) (0.8.3)\n",
      "Requirement already satisfied: asttokens in c:\\programdata\\anaconda3\\envs\\tenserflow\\lib\\site-packages (from stack-data->ipython->ipython-sql) (2.0.5)\n",
      "Requirement already satisfied: pure-eval in c:\\programdata\\anaconda3\\envs\\tenserflow\\lib\\site-packages (from stack-data->ipython->ipython-sql) (0.2.2)\n"
     ]
    }
   ],
   "source": [
    "# Install ipython-sql if not already installed\n",
    "!pip install ipython-sql"
   ]
  },
  {
   "cell_type": "code",
   "execution_count": 2,
   "id": "53a183a3",
   "metadata": {},
   "outputs": [],
   "source": [
    "import sqlite3\n",
    "import sql\n",
    "import pandas as pd\n",
    "import numpy as np\n",
    "\n",
    "# Connect to a database (creates the database file if it doesn't exist)\n",
    "cnn = sqlite3.connect('jupyter_sql_tutorial.db')"
   ]
  },
  {
   "cell_type": "code",
   "execution_count": 3,
   "id": "73e5b498",
   "metadata": {},
   "outputs": [],
   "source": [
    "import sql\n",
    "\n",
    "# Load the SQL extension\n",
    "%load_ext sql\n",
    "\n",
    "# Connect to a SQLite database\n",
    "%sql sqlite:///jupyter_sql_tutorial.db\n",
    "\n",
    "#display style of SQL query results in Jupyter Notebook\n",
    "%config SqlMagic.style = '_DEPRECATED_DEFAULT'"
   ]
  },
  {
   "cell_type": "code",
   "execution_count": 4,
   "id": "a239f6fb",
   "metadata": {},
   "outputs": [
    {
     "data": {
      "text/html": [
       "<div>\n",
       "<style scoped>\n",
       "    .dataframe tbody tr th:only-of-type {\n",
       "        vertical-align: middle;\n",
       "    }\n",
       "\n",
       "    .dataframe tbody tr th {\n",
       "        vertical-align: top;\n",
       "    }\n",
       "\n",
       "    .dataframe thead th {\n",
       "        text-align: right;\n",
       "    }\n",
       "</style>\n",
       "<table border=\"1\" class=\"dataframe\">\n",
       "  <thead>\n",
       "    <tr style=\"text-align: right;\">\n",
       "      <th></th>\n",
       "      <th>name</th>\n",
       "      <th>age</th>\n",
       "      <th>city</th>\n",
       "    </tr>\n",
       "  </thead>\n",
       "  <tbody>\n",
       "    <tr>\n",
       "      <th>0</th>\n",
       "      <td>Juan</td>\n",
       "      <td>23</td>\n",
       "      <td>Miami</td>\n",
       "    </tr>\n",
       "    <tr>\n",
       "      <th>1</th>\n",
       "      <td>Victoria</td>\n",
       "      <td>34</td>\n",
       "      <td>Buenos Aires</td>\n",
       "    </tr>\n",
       "    <tr>\n",
       "      <th>2</th>\n",
       "      <td>Mary</td>\n",
       "      <td>43</td>\n",
       "      <td>Santiago</td>\n",
       "    </tr>\n",
       "    <tr>\n",
       "      <th>3</th>\n",
       "      <td>Himanshu</td>\n",
       "      <td>30</td>\n",
       "      <td>Nagpur</td>\n",
       "    </tr>\n",
       "  </tbody>\n",
       "</table>\n",
       "</div>"
      ],
      "text/plain": [
       "       name  age          city\n",
       "0      Juan   23         Miami\n",
       "1  Victoria   34  Buenos Aires\n",
       "2      Mary   43      Santiago\n",
       "3  Himanshu   30        Nagpur"
      ]
     },
     "execution_count": 4,
     "metadata": {},
     "output_type": "execute_result"
    }
   ],
   "source": [
    "import pandas as pd\n",
    "\n",
    "df = pd.DataFrame({'name': ['Juan', 'Victoria', 'Mary', 'Himanshu'], \n",
    "                  'age': [23,34,43,30], \n",
    "                  'city': ['Miami', 'Buenos Aires','Santiago','Nagpur']})\n",
    "\n",
    "df"
   ]
  },
  {
   "cell_type": "code",
   "execution_count": 5,
   "id": "d467f99d",
   "metadata": {},
   "outputs": [
    {
     "data": {
      "text/plain": [
       "4"
      ]
     },
     "execution_count": 5,
     "metadata": {},
     "output_type": "execute_result"
    }
   ],
   "source": [
    "# converting pandas datafrmae into SQL database table\n",
    "df.to_sql('people', cnn, if_exists='replace', index=False)"
   ]
  },
  {
   "cell_type": "code",
   "execution_count": 6,
   "id": "038a8db9",
   "metadata": {},
   "outputs": [
    {
     "name": "stdout",
     "output_type": "stream",
     "text": [
      " * sqlite:///jupyter_sql_tutorial.db\n",
      "Done.\n"
     ]
    },
    {
     "data": {
      "text/html": [
       "<table>\n",
       "    <thead>\n",
       "        <tr>\n",
       "            <th>name</th>\n",
       "            <th>age</th>\n",
       "            <th>city</th>\n",
       "        </tr>\n",
       "    </thead>\n",
       "    <tbody>\n",
       "        <tr>\n",
       "            <td>Juan</td>\n",
       "            <td>23</td>\n",
       "            <td>Miami</td>\n",
       "        </tr>\n",
       "        <tr>\n",
       "            <td>Victoria</td>\n",
       "            <td>34</td>\n",
       "            <td>Buenos Aires</td>\n",
       "        </tr>\n",
       "        <tr>\n",
       "            <td>Mary</td>\n",
       "            <td>43</td>\n",
       "            <td>Santiago</td>\n",
       "        </tr>\n",
       "        <tr>\n",
       "            <td>Himanshu</td>\n",
       "            <td>30</td>\n",
       "            <td>Nagpur</td>\n",
       "        </tr>\n",
       "    </tbody>\n",
       "</table>"
      ],
      "text/plain": [
       "[('Juan', 23, 'Miami'),\n",
       " ('Victoria', 34, 'Buenos Aires'),\n",
       " ('Mary', 43, 'Santiago'),\n",
       " ('Himanshu', 30, 'Nagpur')]"
      ]
     },
     "execution_count": 6,
     "metadata": {},
     "output_type": "execute_result"
    }
   ],
   "source": [
    "%%sql\n",
    "\n",
    "SELECT *\n",
    "FROM people;"
   ]
  },
  {
   "cell_type": "code",
   "execution_count": null,
   "id": "92357f3b",
   "metadata": {},
   "outputs": [],
   "source": []
  },
  {
   "cell_type": "code",
   "execution_count": null,
   "id": "bc98f513",
   "metadata": {},
   "outputs": [],
   "source": []
  },
  {
   "cell_type": "code",
   "execution_count": null,
   "id": "fc299e8a",
   "metadata": {},
   "outputs": [],
   "source": []
  }
 ],
 "metadata": {
  "kernelspec": {
   "display_name": "Python 3 (ipykernel)",
   "language": "python",
   "name": "python3"
  },
  "language_info": {
   "codemirror_mode": {
    "name": "ipython",
    "version": 3
   },
   "file_extension": ".py",
   "mimetype": "text/x-python",
   "name": "python",
   "nbconvert_exporter": "python",
   "pygments_lexer": "ipython3",
   "version": "3.9.18"
  }
 },
 "nbformat": 4,
 "nbformat_minor": 5
}
